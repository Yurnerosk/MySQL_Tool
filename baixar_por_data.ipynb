{
 "cells": [
  {
   "cell_type": "code",
   "execution_count": null,
   "metadata": {},
   "outputs": [],
   "source": [
    "from sqlalchemy import create_engine\n",
    "import pandas as pd\n",
    "import os"
   ]
  },
  {
   "cell_type": "code",
   "execution_count": null,
   "metadata": {},
   "outputs": [],
   "source": [
    "import os\n",
    "import pandas as pd\n",
    "\n",
    "def buscar_e_salvar_dados(nome_tabela, mes, ano, colunas='*', limite=10000, caminho_csv=None):\n",
    "    # Converte colunas para string para a consulta\n",
    "    if isinstance(colunas, list):\n",
    "        colunas_str = \", \".join(colunas)\n",
    "    else:\n",
    "        colunas_str = colunas  # Supondo que colunas podem ser '*' para todos\n",
    "\n",
    "    # Prepara strings de data para nomear arquivos\n",
    "    mes_str = f\"{mes:02d}\"\n",
    "\n",
    "    etapa = 1\n",
    "    offset = 0\n",
    "    alcançado = False\n",
    "    while not alcançado:\n",
    "        print(f'Etapa {etapa} - Buscando dados para {mes}/{ano}')\n",
    "\n",
    "        consulta = f\"\"\"\n",
    "            SELECT {colunas_str} FROM {nome_tabela}\n",
    "            WHERE MONTH(DATETIME_) = {mes} AND YEAR(DATETIME_)\n",
    "            = {ano} ORDER BY `TIMESTAMP_USEC`\n",
    "            LIMIT {limite} OFFSET {offset};\n",
    "        \"\"\"\n",
    "        \n",
    "        df = pd.read_sql(consulta, engine)\n",
    "        print('Dados consultados.')\n",
    "\n",
    "        # Determina o caminho para salvar\n",
    "        etapa_str = f\"{etapa:02d}\"\n",
    "        nome = f\"{ano}{mes_str}_{etapa_str}_machinedata_filtered.csv\"\n",
    "        if caminho_csv is None:\n",
    "            caminho_completo = os.path.join(os.getcwd(), nome)  # Salva no diretório de trabalho atual\n",
    "        else:\n",
    "            caminho_completo = os.path.join(caminho_csv, nome)\n",
    "\n",
    "        # Salva para CSV\n",
    "        df.to_csv(caminho_completo, index=False)\n",
    "        print(f\"Arquivo criado em {caminho_completo}. Recuperadas {len(df)} linhas.\")\n",
    "        \n",
    "        if len(df) < limite:\n",
    "            alcançado = True\n",
    "        offset += limite\n",
    "        etapa += 1\n",
    "\n"
   ]
  },
  {
   "cell_type": "code",
   "execution_count": null,
   "metadata": {},
   "outputs": [],
   "source": [
    "USUARIO = 'meu_usuario'\n",
    "SENHA = 'minha_senha'\n",
    "IP_REMOTO = '100.000.000.001'\n",
    "DATABASE = 'meu_database'\n",
    "\n",
    "engine_url = f'mysql+pymysql://{USUARIO}:{SENHA}@{IP_REMOTO}:3306/{DATABASE}'\n",
    "path = r'C:\\Users\\...\\GitHub\\MySQL_Tool\\salvar'\n",
    "engine = create_engine(engine_url)\n",
    "\n",
    "for mes in ([6,7,8,9,10]):\n",
    "    colunas = [\n",
    "    'Column_A',\n",
    "    'Column_B',\n",
    "    'Column_C',\n",
    "    'Timestamp'\n",
    "    ]\n",
    "    buscar_e_salvar_dados(nome_tabela='COLHEDORA_DATA', mes=mes, ano=2024, caminho_csv=path, colunas=colunas)\n",
    "    # buscar_e_salvar_dados(nome_tabela='COLHEDORA_DATA_FILTRADO', mes=mes, ano=2024, caminho_csv=path, colunas=colunas, limite = 100000)\n",
    "engine.dispose()"
   ]
  }
 ],
 "metadata": {
  "kernelspec": {
   "display_name": "mysql_venv",
   "language": "python",
   "name": "python3"
  },
  "language_info": {
   "codemirror_mode": {
    "name": "ipython",
    "version": 3
   },
   "file_extension": ".py",
   "mimetype": "text/x-python",
   "name": "python",
   "nbconvert_exporter": "python",
   "pygments_lexer": "ipython3",
   "version": "3.9.19"
  }
 },
 "nbformat": 4,
 "nbformat_minor": 2
}
